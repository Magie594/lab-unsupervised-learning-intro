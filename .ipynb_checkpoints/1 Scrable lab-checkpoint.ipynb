{
 "cells": [
  {
   "cell_type": "code",
   "execution_count": 4,
   "id": "32961796",
   "metadata": {},
   "outputs": [],
   "source": [
    "from bs4 import BeautifulSoup\n",
    "import requests\n",
    "import pandas as pd"
   ]
  },
  {
   "cell_type": "code",
   "execution_count": 5,
   "id": "f92f71f5",
   "metadata": {},
   "outputs": [],
   "source": [
    "url = \"https://www.popvortex.com/music/charts/top-100-songs.php\""
   ]
  },
  {
   "cell_type": "code",
   "execution_count": 6,
   "id": "8378e725",
   "metadata": {},
   "outputs": [
    {
     "data": {
      "text/plain": [
       "200"
      ]
     },
     "execution_count": 6,
     "metadata": {},
     "output_type": "execute_result"
    }
   ],
   "source": [
    "response = requests.get(url)\n",
    "response.status_code"
   ]
  },
  {
   "cell_type": "code",
   "execution_count": 7,
   "id": "83f98c98",
   "metadata": {},
   "outputs": [],
   "source": [
    "soup = BeautifulSoup(response.content, \"html.parser\")"
   ]
  },
  {
   "cell_type": "code",
   "execution_count": 8,
   "id": "fac63ad7",
   "metadata": {},
   "outputs": [],
   "source": [
    "# soup"
   ]
  },
  {
   "cell_type": "markdown",
   "id": "e70dce41",
   "metadata": {},
   "source": [
    "# t's a good place to start! Scrape the current top 100 songs and their respective artists, and put the information into a pandas dataframe."
   ]
  },
  {
   "cell_type": "code",
   "execution_count": 21,
   "id": "a75948cf",
   "metadata": {},
   "outputs": [],
   "source": [
    "# soup.select(\"body > div.container > div:nth-child(4) > div.col-xs-12.col-md-8 > div.chart-wrapper\")"
   ]
  },
  {
   "cell_type": "code",
   "execution_count": 13,
   "id": "5c319272",
   "metadata": {},
   "outputs": [
    {
     "data": {
      "text/plain": [
       "[]"
      ]
     },
     "execution_count": 13,
     "metadata": {},
     "output_type": "execute_result"
    }
   ],
   "source": [
    "# soup.select(\"#chart-position-1 > div.chart-content.col-xs-12.col-sm-8 > p\")"
   ]
  },
  {
   "cell_type": "code",
   "execution_count": 11,
   "id": "aefd6289",
   "metadata": {},
   "outputs": [
    {
     "data": {
      "text/plain": [
       "[<cite class=\"title\">Rich Men North of Richmond</cite>]"
      ]
     },
     "execution_count": 11,
     "metadata": {},
     "output_type": "execute_result"
    }
   ],
   "source": [
    "songs1=soup.select(\"#chart-position-1 > div.chart-content.col-xs-12.col-sm-8 > p > cite\")\n",
    "songs1"
   ]
  },
  {
   "cell_type": "code",
   "execution_count": 12,
   "id": "a6e6e52a",
   "metadata": {},
   "outputs": [
    {
     "data": {
      "text/plain": [
       "[<em class=\"artist\">Oliver Anthony Music</em>]"
      ]
     },
     "execution_count": 12,
     "metadata": {},
     "output_type": "execute_result"
    }
   ],
   "source": [
    "songs2=soup.select(\"#chart-position-1 > div.chart-content.col-xs-12.col-sm-8 > p > em\")\n",
    "songs2"
   ]
  },
  {
   "cell_type": "code",
   "execution_count": 30,
   "id": "2d0b3630",
   "metadata": {},
   "outputs": [],
   "source": [
    "titles = []\n",
    "artists = []\n",
    "\n",
    "songs = soup.select(\"body > div.container > div:nth-child(4) > div.col-xs-12.col-md-8 > div.chart-wrapper\")\n",
    "\n",
    "for song in songs:\n",
    "    title = song.find('cite').get_text()\n",
    "    artist = song.find('em').get_text()\n",
    "    titles.append(title)\n",
    "    artists.append(artist)\n",
    "                   \n",
    "    top_100 = pd.DataFrame({\"Title\": titles, \"Artist\": artists})\n",
    "    top_100"
   ]
  },
  {
   "cell_type": "code",
   "execution_count": 31,
   "id": "4f8b6a5b",
   "metadata": {},
   "outputs": [
    {
     "data": {
      "text/plain": [
       "<bound method NDFrame.head of             Title         Artist\n",
       "0  Margaritaville  Jimmy Buffett>"
      ]
     },
     "execution_count": 31,
     "metadata": {},
     "output_type": "execute_result"
    }
   ],
   "source": [
    "top_100.head"
   ]
  },
  {
   "cell_type": "code",
   "execution_count": 32,
   "id": "bdcca2b5",
   "metadata": {},
   "outputs": [
    {
     "data": {
      "text/html": [
       "<div>\n",
       "<style scoped>\n",
       "    .dataframe tbody tr th:only-of-type {\n",
       "        vertical-align: middle;\n",
       "    }\n",
       "\n",
       "    .dataframe tbody tr th {\n",
       "        vertical-align: top;\n",
       "    }\n",
       "\n",
       "    .dataframe thead th {\n",
       "        text-align: right;\n",
       "    }\n",
       "</style>\n",
       "<table border=\"1\" class=\"dataframe\">\n",
       "  <thead>\n",
       "    <tr style=\"text-align: right;\">\n",
       "      <th></th>\n",
       "      <th>Title</th>\n",
       "      <th>Artist</th>\n",
       "    </tr>\n",
       "  </thead>\n",
       "  <tbody>\n",
       "    <tr>\n",
       "      <th>0</th>\n",
       "      <td>Margaritaville</td>\n",
       "      <td>Jimmy Buffett</td>\n",
       "    </tr>\n",
       "  </tbody>\n",
       "</table>\n",
       "</div>"
      ],
      "text/plain": [
       "            Title         Artist\n",
       "0  Margaritaville  Jimmy Buffett"
      ]
     },
     "execution_count": 32,
     "metadata": {},
     "output_type": "execute_result"
    }
   ],
   "source": [
    "top_100"
   ]
  },
  {
   "cell_type": "code",
   "execution_count": 33,
   "id": "c2c8da9d",
   "metadata": {},
   "outputs": [],
   "source": [
    "# titles = []\n",
    "# artists = []\n",
    "\n",
    "# songs = soup.select(\"body > div.container > div:nth-child(4) > div.col-xs-12.col-md-8 > div.chart-wrapper\")\n",
    "\n",
    "# song_titles = soup.find_all(\"cite\", {\"class\":\"title\"} )\n",
    "# song_artists = soup.find_all(\"em\", {\"class\":\"artist\"} )\n",
    "\n",
    "# for song in range(len(songs)):\n",
    "#     song_titles.append(song_titles[i].text)\n",
    "#     song_artists.append(song_artists[i].text)\n",
    "    \n",
    "    \n",
    "# print(song_titles)\n",
    "# print(song_artists)"
   ]
  },
  {
   "cell_type": "code",
   "execution_count": 2,
   "id": "95a890ed",
   "metadata": {},
   "outputs": [],
   "source": [
    "# titles = []\n",
    "# artists = []\n",
    "\n",
    "# songs = soup.select(\"body > div.container > div:nth-child(4) > div.col-xs-12.col-md-8 > div.chart-wrapper\")\n",
    "\n",
    "# song_titles = soup.find_all(\"cite\", {\"class\":\"title\"} )\n",
    "# song_artists = soup.find_all(\"em\", {\"class\":\"artist\"} )\n",
    "\n",
    "\n",
    "# for title, artist in zip(song_titles, song_artists):\n",
    "#         titles.append(title.get_text())\n",
    "#         artists.append(artist.get_text())\n",
    "        \n",
    "# print(song_titles)\n",
    "# print(song_artists)"
   ]
  },
  {
   "cell_type": "code",
   "execution_count": 15,
   "id": "853c6fbb",
   "metadata": {},
   "outputs": [
    {
     "data": {
      "text/html": [
       "<div>\n",
       "<style scoped>\n",
       "    .dataframe tbody tr th:only-of-type {\n",
       "        vertical-align: middle;\n",
       "    }\n",
       "\n",
       "    .dataframe tbody tr th {\n",
       "        vertical-align: top;\n",
       "    }\n",
       "\n",
       "    .dataframe thead th {\n",
       "        text-align: right;\n",
       "    }\n",
       "</style>\n",
       "<table border=\"1\" class=\"dataframe\">\n",
       "  <thead>\n",
       "    <tr style=\"text-align: right;\">\n",
       "      <th></th>\n",
       "      <th>titles</th>\n",
       "      <th>artists</th>\n",
       "    </tr>\n",
       "  </thead>\n",
       "  <tbody>\n",
       "    <tr>\n",
       "      <th>0</th>\n",
       "      <td>Margaritaville</td>\n",
       "      <td>Jimmy Buffett</td>\n",
       "    </tr>\n",
       "    <tr>\n",
       "      <th>1</th>\n",
       "      <td>Come Monday</td>\n",
       "      <td>Jimmy Buffett</td>\n",
       "    </tr>\n",
       "    <tr>\n",
       "      <th>2</th>\n",
       "      <td>Rich Men North of Richmond</td>\n",
       "      <td>Oliver Anthony Music</td>\n",
       "    </tr>\n",
       "    <tr>\n",
       "      <th>3</th>\n",
       "      <td>Cheeseburger In Paradise</td>\n",
       "      <td>Jimmy Buffett</td>\n",
       "    </tr>\n",
       "    <tr>\n",
       "      <th>4</th>\n",
       "      <td>Changes In Latitudes, Changes In Attitudes</td>\n",
       "      <td>Jimmy Buffett</td>\n",
       "    </tr>\n",
       "    <tr>\n",
       "      <th>...</th>\n",
       "      <td>...</td>\n",
       "      <td>...</td>\n",
       "    </tr>\n",
       "    <tr>\n",
       "      <th>95</th>\n",
       "      <td>Pencil Thin Mustache</td>\n",
       "      <td>Jimmy Buffett</td>\n",
       "    </tr>\n",
       "    <tr>\n",
       "      <th>96</th>\n",
       "      <td>All My Life (feat. J. Cole)</td>\n",
       "      <td>Lil Durk</td>\n",
       "    </tr>\n",
       "    <tr>\n",
       "      <th>97</th>\n",
       "      <td>wait in the truck</td>\n",
       "      <td>HARDY &amp; Lainey Wilson</td>\n",
       "    </tr>\n",
       "    <tr>\n",
       "      <th>98</th>\n",
       "      <td>Strokey Doke</td>\n",
       "      <td>Shazam Conner &amp; H-Town</td>\n",
       "    </tr>\n",
       "    <tr>\n",
       "      <th>99</th>\n",
       "      <td>Spirit In the Sky</td>\n",
       "      <td>Norman Greenbaum</td>\n",
       "    </tr>\n",
       "  </tbody>\n",
       "</table>\n",
       "<p>100 rows × 2 columns</p>\n",
       "</div>"
      ],
      "text/plain": [
       "                                        titles                 artists\n",
       "0                               Margaritaville           Jimmy Buffett\n",
       "1                                  Come Monday           Jimmy Buffett\n",
       "2                   Rich Men North of Richmond    Oliver Anthony Music\n",
       "3                     Cheeseburger In Paradise           Jimmy Buffett\n",
       "4   Changes In Latitudes, Changes In Attitudes           Jimmy Buffett\n",
       "..                                         ...                     ...\n",
       "95                        Pencil Thin Mustache           Jimmy Buffett\n",
       "96                 All My Life (feat. J. Cole)                Lil Durk\n",
       "97                           wait in the truck   HARDY & Lainey Wilson\n",
       "98                                Strokey Doke  Shazam Conner & H-Town\n",
       "99                           Spirit In the Sky        Norman Greenbaum\n",
       "\n",
       "[100 rows x 2 columns]"
      ]
     },
     "execution_count": 15,
     "metadata": {},
     "output_type": "execute_result"
    }
   ],
   "source": [
    "top_100 = pd.DataFrame({\"titles\": titles, \"artists\": artists})\n",
    "top_100"
   ]
  },
  {
   "cell_type": "markdown",
   "id": "2465f68e",
   "metadata": {},
   "source": [
    " https://stackoverflow.com/questions/71452964/filtering-soup-find-alldiv-classname-in-python"
   ]
  },
  {
   "cell_type": "code",
   "execution_count": null,
   "id": "cfbfc4b5",
   "metadata": {},
   "outputs": [],
   "source": []
  }
 ],
 "metadata": {
  "kernelspec": {
   "display_name": "Python 3 (ipykernel)",
   "language": "python",
   "name": "python3"
  },
  "language_info": {
   "codemirror_mode": {
    "name": "ipython",
    "version": 3
   },
   "file_extension": ".py",
   "mimetype": "text/x-python",
   "name": "python",
   "nbconvert_exporter": "python",
   "pygments_lexer": "ipython3",
   "version": "3.10.9"
  }
 },
 "nbformat": 4,
 "nbformat_minor": 5
}
